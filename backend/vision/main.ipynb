{
 "cells": [
  {
   "cell_type": "markdown",
   "metadata": {},
   "source": [
    "### Current Working:\n",
    "\n",
    "This code is designed to extract offers and discounts from supermarket pamphlets. The current workflow is as follows:\n",
    "\n",
    "1. The PDF file is accessed from `/catalog_pdf/<supermarket>`.\n",
    "2. The PDF is converted to images step by step and encoded in UTF-8 format and stored in `/catalog_images/<supermarket>`\n",
    "3. The encoded content is sent to the OpenAI API with a specific prompt or instructions.\n",
    "4. The API's response, received as a JSON, is converted into a table (dataframe) and stored locally.\n",
    "\n",
    "### Yet to be developed:    \n",
    "1. The current approach may not be sustainable in the long run due to reliance on the OpenAI API. Exploring open-source models could be a viable alternative.\n",
    "2. Sometimes, characters are not accurately recognized (e.g., the number \"1\" from Jumbo).\n",
    "3. The automation of the full process (with modularity), from scraping the relevant websites weekly to creating the database, is yet to be developed.\n",
    "4. There are some pages in these pamphlet - which do not have any information - we need to ignore/discard them\n",
    "5. Integration with the main app"
   ]
  },
  {
   "cell_type": "code",
   "execution_count": 2,
   "metadata": {},
   "outputs": [
    {
     "ename": "ModuleNotFoundError",
     "evalue": "No module named 'requests'",
     "output_type": "error",
     "traceback": [
      "\u001b[1;31m---------------------------------------------------------------------------\u001b[0m",
      "\u001b[1;31mModuleNotFoundError\u001b[0m                       Traceback (most recent call last)",
      "Cell \u001b[1;32mIn[2], line 2\u001b[0m\n\u001b[0;32m      1\u001b[0m \u001b[38;5;28;01mimport\u001b[39;00m \u001b[38;5;21;01mbase64\u001b[39;00m\n\u001b[1;32m----> 2\u001b[0m \u001b[38;5;28;01mimport\u001b[39;00m \u001b[38;5;21;01mrequests\u001b[39;00m\n\u001b[0;32m      3\u001b[0m \u001b[38;5;28;01mimport\u001b[39;00m \u001b[38;5;21;01mpandas\u001b[39;00m \u001b[38;5;28;01mas\u001b[39;00m \u001b[38;5;21;01mpd\u001b[39;00m\n\u001b[0;32m      4\u001b[0m \u001b[38;5;28;01mimport\u001b[39;00m \u001b[38;5;21;01mio\u001b[39;00m\n",
      "\u001b[1;31mModuleNotFoundError\u001b[0m: No module named 'requests'"
     ]
    }
   ],
   "source": [
    "import base64\n",
    "import requests\n",
    "import pandas as pd\n",
    "import io\n",
    "import json\n",
    "import os\n",
    "\n",
    "from pdf2image import convert_from_path\n",
    "import os"
   ]
  },
  {
   "cell_type": "code",
   "execution_count": 7,
   "metadata": {},
   "outputs": [],
   "source": [
    "# Path to your PDF file\n",
    "# Now we take an example of Lidl. This needs to be automated for every supermarket\n",
    "\n",
    "sample_pdf_path = './catalog_pdf/Lidl/lidl_sample.pdf'\n",
    "\n",
    "# Path to save images\n",
    "save_images_path = './catalog_images/Lidl'"
   ]
  },
  {
   "cell_type": "code",
   "execution_count": 9,
   "metadata": {},
   "outputs": [
    {
     "name": "stdout",
     "output_type": "stream",
     "text": [
      "Saved page 1 to ./catalog_images/Lidl\\page_1.png\n",
      "Saved page 2 to ./catalog_images/Lidl\\page_2.png\n",
      "Saved page 3 to ./catalog_images/Lidl\\page_3.png\n",
      "Saved page 4 to ./catalog_images/Lidl\\page_4.png\n",
      "Saved page 5 to ./catalog_images/Lidl\\page_5.png\n",
      "Saved page 6 to ./catalog_images/Lidl\\page_6.png\n",
      "Saved page 7 to ./catalog_images/Lidl\\page_7.png\n",
      "Saved page 8 to ./catalog_images/Lidl\\page_8.png\n",
      "Saved page 9 to ./catalog_images/Lidl\\page_9.png\n",
      "Saved page 10 to ./catalog_images/Lidl\\page_10.png\n",
      "Saved page 11 to ./catalog_images/Lidl\\page_11.png\n",
      "Saved page 12 to ./catalog_images/Lidl\\page_12.png\n",
      "Saved page 13 to ./catalog_images/Lidl\\page_13.png\n",
      "Saved page 14 to ./catalog_images/Lidl\\page_14.png\n",
      "Saved page 15 to ./catalog_images/Lidl\\page_15.png\n",
      "Saved page 16 to ./catalog_images/Lidl\\page_16.png\n",
      "Saved page 17 to ./catalog_images/Lidl\\page_17.png\n",
      "Saved page 18 to ./catalog_images/Lidl\\page_18.png\n",
      "Saved page 19 to ./catalog_images/Lidl\\page_19.png\n",
      "Saved page 20 to ./catalog_images/Lidl\\page_20.png\n",
      "Saved page 21 to ./catalog_images/Lidl\\page_21.png\n",
      "Saved page 22 to ./catalog_images/Lidl\\page_22.png\n",
      "Saved page 23 to ./catalog_images/Lidl\\page_23.png\n",
      "Saved page 24 to ./catalog_images/Lidl\\page_24.png\n",
      "Saved page 25 to ./catalog_images/Lidl\\page_25.png\n",
      "Saved page 26 to ./catalog_images/Lidl\\page_26.png\n",
      "Saved page 27 to ./catalog_images/Lidl\\page_27.png\n",
      "Saved page 28 to ./catalog_images/Lidl\\page_28.png\n",
      "Saved page 29 to ./catalog_images/Lidl\\page_29.png\n",
      "Saved page 30 to ./catalog_images/Lidl\\page_30.png\n",
      "Saved page 31 to ./catalog_images/Lidl\\page_31.png\n",
      "Saved page 32 to ./catalog_images/Lidl\\page_32.png\n",
      "Saved page 33 to ./catalog_images/Lidl\\page_33.png\n",
      "Saved page 34 to ./catalog_images/Lidl\\page_34.png\n",
      "Saved page 35 to ./catalog_images/Lidl\\page_35.png\n",
      "Saved page 36 to ./catalog_images/Lidl\\page_36.png\n",
      "Saved page 37 to ./catalog_images/Lidl\\page_37.png\n",
      "Saved page 38 to ./catalog_images/Lidl\\page_38.png\n",
      "Saved page 39 to ./catalog_images/Lidl\\page_39.png\n",
      "Saved page 40 to ./catalog_images/Lidl\\page_40.png\n"
     ]
    }
   ],
   "source": [
    "# Create the directory if it doesn't exist\n",
    "if not os.path.exists(save_images_path):\n",
    "    os.makedirs(save_images_path)\n",
    "\n",
    "# Convert PDF to images\n",
    "pages = convert_from_path(sample_pdf_path)\n",
    "\n",
    "# Save each page as an image in the folder\n",
    "for i, page in enumerate(pages):\n",
    "    image_path = os.path.join(save_images_path, f'page_{i + 1}.png')\n",
    "    page.save(image_path, 'PNG')\n",
    "    print(f\"Saving page {i + 1} to {image_path}\")"
   ]
  },
  {
   "cell_type": "code",
   "execution_count": 10,
   "metadata": {},
   "outputs": [],
   "source": [
    "# Now we take an example page from above. This needs to be automated for every page\n",
    "\n",
    "sample_image_path = \"./catalog_images/Lidl/page_3.png\"\n",
    "sample_data_save_path = \"./catalog_data/Lidl/\""
   ]
  },
  {
   "cell_type": "code",
   "execution_count": 11,
   "metadata": {},
   "outputs": [],
   "source": [
    "# Function to encode the image\n",
    "\n",
    "def encode_image(image_path):\n",
    "  with open(image_path, \"rb\") as image_file:\n",
    "    return base64.b64encode(image_file.read()).decode('utf-8')"
   ]
  },
  {
   "cell_type": "code",
   "execution_count": 12,
   "metadata": {},
   "outputs": [],
   "source": [
    "# Getting the base64 string\n",
    "\n",
    "base64_image = encode_image(sample_image_path)"
   ]
  },
  {
   "cell_type": "code",
   "execution_count": 13,
   "metadata": {},
   "outputs": [],
   "source": [
    "openai_api_key=\"sk-JCguguFQg0yjwHTDNx2J90CrGku2a0iZf02HgYInRGT3BlbkFJpgN49P5MfDGiOa7pN-7h8_0A581s0VpHkap-F7BPoA\""
   ]
  },
  {
   "cell_type": "code",
   "execution_count": 14,
   "metadata": {},
   "outputs": [],
   "source": [
    "headers = {\n",
    "  \"Content-Type\": \"application/json\",\n",
    "  \"Authorization\": f\"Bearer {openai_api_key}\"\n",
    "}\n",
    "\n",
    "payload = {\n",
    "  \"model\": \"gpt-4o-mini\",\n",
    "  \"messages\": [\n",
    "    {\n",
    "      \"role\": \"user\",\n",
    "      \"content\": [\n",
    "        {\n",
    "          \"type\": \"text\",\n",
    "          \"text\": f\"Extract the product names, product weight/volume,\"\n",
    "                    \"quantity, discount price and discount type (if any) from the image\"\n",
    "                    \"and produce only a json output\"\n",
    "        },\n",
    "        {\n",
    "          \"type\": \"image_url\",\n",
    "          \"image_url\": {\n",
    "            \"url\": f\"data:image/jpeg;base64,{base64_image}\"\n",
    "          }\n",
    "        }\n",
    "      ]\n",
    "    }\n",
    "  ],\n",
    "  \"max_tokens\": 300\n",
    "}\n",
    "\n",
    "response = requests.post(\"https://api.openai.com/v1/chat/completions\", headers=headers, json=payload)"
   ]
  },
  {
   "cell_type": "code",
   "execution_count": 16,
   "metadata": {},
   "outputs": [],
   "source": [
    "# Extract the JSON content from the response\n",
    "response_json = response.json()\n",
    "extracted_content = response_json['choices'][0]['message']['content']\n",
    "\n",
    "# Debugging: Print the extracted content to ensure it's correct\n",
    "# print(\"Extracted Content:\")\n",
    "# print(extracted_content)\n",
    "\n",
    "# Remove the markdown code block notation from the content\n",
    "json_content = extracted_content.strip().strip('```json').strip('```')\n",
    "data_lidl = json.loads(json_content)\n",
    "df_lidl = pd.DataFrame(data_lidl)\n",
    "df_lidl.to_csv(sample_data_save_path + 'lidl_catalog_data.csv', index=False)"
   ]
  },
  {
   "cell_type": "markdown",
   "metadata": {},
   "source": [
    "**Next steps:**\n",
    "1. We need to finish the script for all supermarkets.\n",
    "2. Develop a method to combine everything into a single database.\n",
    "3. Integrate the database with the app to display all information in one place for the user."
   ]
  }
 ],
 "metadata": {
  "kernelspec": {
   "display_name": "Python 3",
   "language": "python",
   "name": "python3"
  },
  "language_info": {
   "codemirror_mode": {
    "name": "ipython",
    "version": 3
   },
   "file_extension": ".py",
   "mimetype": "text/x-python",
   "name": "python",
   "nbconvert_exporter": "python",
   "pygments_lexer": "ipython3",
   "version": "3.11.9"
  }
 },
 "nbformat": 4,
 "nbformat_minor": 2
}
